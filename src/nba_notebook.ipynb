{
 "cells": [
  {
   "cell_type": "code",
   "execution_count": 1,
   "id": "604c03d5",
   "metadata": {},
   "outputs": [],
   "source": [
    "import numpy as np\n",
    "import pandas as pd\n",
    "import matplotlib.pyplot as plt\n",
    "import seaborn as sns\n"
   ]
  },
  {
   "cell_type": "code",
   "execution_count": 57,
   "id": "c706b183",
   "metadata": {},
   "outputs": [],
   "source": [
    "metricas = pd.read_excel('METRICAS_NBA.xlsx')\n",
    "jogadores = pd.read_excel('JOGADORES_NBA.xlsx')\n"
   ]
  },
  {
   "cell_type": "code",
   "execution_count": 58,
   "id": "61366ef0",
   "metadata": {},
   "outputs": [
    {
     "data": {
      "text/html": [
       "<div>\n",
       "<style scoped>\n",
       "    .dataframe tbody tr th:only-of-type {\n",
       "        vertical-align: middle;\n",
       "    }\n",
       "\n",
       "    .dataframe tbody tr th {\n",
       "        vertical-align: top;\n",
       "    }\n",
       "\n",
       "    .dataframe thead th {\n",
       "        text-align: right;\n",
       "    }\n",
       "</style>\n",
       "<table border=\"1\" class=\"dataframe\">\n",
       "  <thead>\n",
       "    <tr style=\"text-align: right;\">\n",
       "      <th></th>\n",
       "      <th>Unnamed: 0</th>\n",
       "      <th>Player</th>\n",
       "      <th>height</th>\n",
       "      <th>weight</th>\n",
       "      <th>collage</th>\n",
       "      <th>born</th>\n",
       "      <th>birth_city</th>\n",
       "      <th>birth_state</th>\n",
       "    </tr>\n",
       "  </thead>\n",
       "  <tbody>\n",
       "    <tr>\n",
       "      <th>0</th>\n",
       "      <td>0</td>\n",
       "      <td>Curly Armstrong</td>\n",
       "      <td>180.0</td>\n",
       "      <td>77.0</td>\n",
       "      <td>Indiana University</td>\n",
       "      <td>1918.0</td>\n",
       "      <td>NaN</td>\n",
       "      <td>NaN</td>\n",
       "    </tr>\n",
       "    <tr>\n",
       "      <th>1</th>\n",
       "      <td>1</td>\n",
       "      <td>Cliff Barker</td>\n",
       "      <td>188.0</td>\n",
       "      <td>83.0</td>\n",
       "      <td>University of Kentucky</td>\n",
       "      <td>1921.0</td>\n",
       "      <td>Yorktown</td>\n",
       "      <td>Indiana</td>\n",
       "    </tr>\n",
       "    <tr>\n",
       "      <th>2</th>\n",
       "      <td>2</td>\n",
       "      <td>Leo Barnhorst</td>\n",
       "      <td>193.0</td>\n",
       "      <td>86.0</td>\n",
       "      <td>University of Notre Dame</td>\n",
       "      <td>1924.0</td>\n",
       "      <td>NaN</td>\n",
       "      <td>NaN</td>\n",
       "    </tr>\n",
       "    <tr>\n",
       "      <th>3</th>\n",
       "      <td>3</td>\n",
       "      <td>Ed Bartels</td>\n",
       "      <td>196.0</td>\n",
       "      <td>88.0</td>\n",
       "      <td>North Carolina State University</td>\n",
       "      <td>1925.0</td>\n",
       "      <td>NaN</td>\n",
       "      <td>NaN</td>\n",
       "    </tr>\n",
       "    <tr>\n",
       "      <th>4</th>\n",
       "      <td>4</td>\n",
       "      <td>Ralph Beard</td>\n",
       "      <td>178.0</td>\n",
       "      <td>79.0</td>\n",
       "      <td>University of Kentucky</td>\n",
       "      <td>1927.0</td>\n",
       "      <td>Hardinsburg</td>\n",
       "      <td>Kentucky</td>\n",
       "    </tr>\n",
       "  </tbody>\n",
       "</table>\n",
       "</div>"
      ],
      "text/plain": [
       "   Unnamed: 0           Player  height  weight  \\\n",
       "0           0  Curly Armstrong   180.0    77.0   \n",
       "1           1     Cliff Barker   188.0    83.0   \n",
       "2           2    Leo Barnhorst   193.0    86.0   \n",
       "3           3       Ed Bartels   196.0    88.0   \n",
       "4           4      Ralph Beard   178.0    79.0   \n",
       "\n",
       "                           collage    born   birth_city birth_state  \n",
       "0               Indiana University  1918.0          NaN         NaN  \n",
       "1           University of Kentucky  1921.0     Yorktown     Indiana  \n",
       "2         University of Notre Dame  1924.0          NaN         NaN  \n",
       "3  North Carolina State University  1925.0          NaN         NaN  \n",
       "4           University of Kentucky  1927.0  Hardinsburg    Kentucky  "
      ]
     },
     "execution_count": 58,
     "metadata": {},
     "output_type": "execute_result"
    }
   ],
   "source": [
    "jogadores.head()"
   ]
  },
  {
   "cell_type": "code",
   "execution_count": 59,
   "id": "dce9b6bc",
   "metadata": {},
   "outputs": [
    {
     "data": {
      "text/html": [
       "<div>\n",
       "<style scoped>\n",
       "    .dataframe tbody tr th:only-of-type {\n",
       "        vertical-align: middle;\n",
       "    }\n",
       "\n",
       "    .dataframe tbody tr th {\n",
       "        vertical-align: top;\n",
       "    }\n",
       "\n",
       "    .dataframe thead th {\n",
       "        text-align: right;\n",
       "    }\n",
       "</style>\n",
       "<table border=\"1\" class=\"dataframe\">\n",
       "  <thead>\n",
       "    <tr style=\"text-align: right;\">\n",
       "      <th></th>\n",
       "      <th>Unnamed: 0</th>\n",
       "      <th>Year</th>\n",
       "      <th>Player</th>\n",
       "      <th>Pos</th>\n",
       "      <th>Age</th>\n",
       "      <th>Tm</th>\n",
       "      <th>G</th>\n",
       "      <th>GS</th>\n",
       "      <th>MP</th>\n",
       "      <th>PER</th>\n",
       "      <th>...</th>\n",
       "      <th>FT%</th>\n",
       "      <th>ORB</th>\n",
       "      <th>DRB</th>\n",
       "      <th>TRB</th>\n",
       "      <th>AST</th>\n",
       "      <th>STL</th>\n",
       "      <th>BLK</th>\n",
       "      <th>TOV</th>\n",
       "      <th>PF</th>\n",
       "      <th>PTS</th>\n",
       "    </tr>\n",
       "  </thead>\n",
       "  <tbody>\n",
       "    <tr>\n",
       "      <th>0</th>\n",
       "      <td>0</td>\n",
       "      <td>1950</td>\n",
       "      <td>Curly Armstrong</td>\n",
       "      <td>G-F</td>\n",
       "      <td>31.0</td>\n",
       "      <td>FTW</td>\n",
       "      <td>63</td>\n",
       "      <td>NaN</td>\n",
       "      <td>NaN</td>\n",
       "      <td>NaN</td>\n",
       "      <td>...</td>\n",
       "      <td>0.705</td>\n",
       "      <td>NaN</td>\n",
       "      <td>NaN</td>\n",
       "      <td>NaN</td>\n",
       "      <td>176</td>\n",
       "      <td>NaN</td>\n",
       "      <td>NaN</td>\n",
       "      <td>NaN</td>\n",
       "      <td>217</td>\n",
       "      <td>458</td>\n",
       "    </tr>\n",
       "    <tr>\n",
       "      <th>1</th>\n",
       "      <td>1</td>\n",
       "      <td>1950</td>\n",
       "      <td>Cliff Barker</td>\n",
       "      <td>SG</td>\n",
       "      <td>29.0</td>\n",
       "      <td>INO</td>\n",
       "      <td>49</td>\n",
       "      <td>NaN</td>\n",
       "      <td>NaN</td>\n",
       "      <td>NaN</td>\n",
       "      <td>...</td>\n",
       "      <td>0.708</td>\n",
       "      <td>NaN</td>\n",
       "      <td>NaN</td>\n",
       "      <td>NaN</td>\n",
       "      <td>109</td>\n",
       "      <td>NaN</td>\n",
       "      <td>NaN</td>\n",
       "      <td>NaN</td>\n",
       "      <td>99</td>\n",
       "      <td>279</td>\n",
       "    </tr>\n",
       "    <tr>\n",
       "      <th>2</th>\n",
       "      <td>2</td>\n",
       "      <td>1950</td>\n",
       "      <td>Leo Barnhorst</td>\n",
       "      <td>SF</td>\n",
       "      <td>25.0</td>\n",
       "      <td>CHS</td>\n",
       "      <td>67</td>\n",
       "      <td>NaN</td>\n",
       "      <td>NaN</td>\n",
       "      <td>NaN</td>\n",
       "      <td>...</td>\n",
       "      <td>0.698</td>\n",
       "      <td>NaN</td>\n",
       "      <td>NaN</td>\n",
       "      <td>NaN</td>\n",
       "      <td>140</td>\n",
       "      <td>NaN</td>\n",
       "      <td>NaN</td>\n",
       "      <td>NaN</td>\n",
       "      <td>192</td>\n",
       "      <td>438</td>\n",
       "    </tr>\n",
       "    <tr>\n",
       "      <th>3</th>\n",
       "      <td>3</td>\n",
       "      <td>1950</td>\n",
       "      <td>Ed Bartels</td>\n",
       "      <td>F</td>\n",
       "      <td>24.0</td>\n",
       "      <td>TOT</td>\n",
       "      <td>15</td>\n",
       "      <td>NaN</td>\n",
       "      <td>NaN</td>\n",
       "      <td>NaN</td>\n",
       "      <td>...</td>\n",
       "      <td>0.559</td>\n",
       "      <td>NaN</td>\n",
       "      <td>NaN</td>\n",
       "      <td>NaN</td>\n",
       "      <td>20</td>\n",
       "      <td>NaN</td>\n",
       "      <td>NaN</td>\n",
       "      <td>NaN</td>\n",
       "      <td>29</td>\n",
       "      <td>63</td>\n",
       "    </tr>\n",
       "    <tr>\n",
       "      <th>4</th>\n",
       "      <td>4</td>\n",
       "      <td>1950</td>\n",
       "      <td>Ed Bartels</td>\n",
       "      <td>F</td>\n",
       "      <td>24.0</td>\n",
       "      <td>DNN</td>\n",
       "      <td>13</td>\n",
       "      <td>NaN</td>\n",
       "      <td>NaN</td>\n",
       "      <td>NaN</td>\n",
       "      <td>...</td>\n",
       "      <td>0.548</td>\n",
       "      <td>NaN</td>\n",
       "      <td>NaN</td>\n",
       "      <td>NaN</td>\n",
       "      <td>20</td>\n",
       "      <td>NaN</td>\n",
       "      <td>NaN</td>\n",
       "      <td>NaN</td>\n",
       "      <td>27</td>\n",
       "      <td>59</td>\n",
       "    </tr>\n",
       "  </tbody>\n",
       "</table>\n",
       "<p>5 rows × 53 columns</p>\n",
       "</div>"
      ],
      "text/plain": [
       "   Unnamed: 0  Year           Player  Pos   Age   Tm   G  GS  MP  PER  ...  \\\n",
       "0           0  1950  Curly Armstrong  G-F  31.0  FTW  63 NaN NaN  NaN  ...   \n",
       "1           1  1950     Cliff Barker   SG  29.0  INO  49 NaN NaN  NaN  ...   \n",
       "2           2  1950    Leo Barnhorst   SF  25.0  CHS  67 NaN NaN  NaN  ...   \n",
       "3           3  1950       Ed Bartels    F  24.0  TOT  15 NaN NaN  NaN  ...   \n",
       "4           4  1950       Ed Bartels    F  24.0  DNN  13 NaN NaN  NaN  ...   \n",
       "\n",
       "     FT%  ORB  DRB  TRB  AST  STL  BLK  TOV   PF  PTS  \n",
       "0  0.705  NaN  NaN  NaN  176  NaN  NaN  NaN  217  458  \n",
       "1  0.708  NaN  NaN  NaN  109  NaN  NaN  NaN   99  279  \n",
       "2  0.698  NaN  NaN  NaN  140  NaN  NaN  NaN  192  438  \n",
       "3  0.559  NaN  NaN  NaN   20  NaN  NaN  NaN   29   63  \n",
       "4  0.548  NaN  NaN  NaN   20  NaN  NaN  NaN   27   59  \n",
       "\n",
       "[5 rows x 53 columns]"
      ]
     },
     "execution_count": 59,
     "metadata": {},
     "output_type": "execute_result"
    }
   ],
   "source": [
    "metricas.head()"
   ]
  },
  {
   "cell_type": "markdown",
   "id": "7042ce9f",
   "metadata": {},
   "source": [
    "Merge dos dados"
   ]
  },
  {
   "cell_type": "code",
   "execution_count": 60,
   "id": "8247af6e",
   "metadata": {},
   "outputs": [
    {
     "data": {
      "text/html": [
       "<div>\n",
       "<style scoped>\n",
       "    .dataframe tbody tr th:only-of-type {\n",
       "        vertical-align: middle;\n",
       "    }\n",
       "\n",
       "    .dataframe tbody tr th {\n",
       "        vertical-align: top;\n",
       "    }\n",
       "\n",
       "    .dataframe thead th {\n",
       "        text-align: right;\n",
       "    }\n",
       "</style>\n",
       "<table border=\"1\" class=\"dataframe\">\n",
       "  <thead>\n",
       "    <tr style=\"text-align: right;\">\n",
       "      <th></th>\n",
       "      <th>Unnamed: 0_x</th>\n",
       "      <th>Year</th>\n",
       "      <th>Player</th>\n",
       "      <th>Pos</th>\n",
       "      <th>Age</th>\n",
       "      <th>Tm</th>\n",
       "      <th>G</th>\n",
       "      <th>GS</th>\n",
       "      <th>MP</th>\n",
       "      <th>PER</th>\n",
       "      <th>...</th>\n",
       "      <th>TOV</th>\n",
       "      <th>PF</th>\n",
       "      <th>PTS</th>\n",
       "      <th>Unnamed: 0_y</th>\n",
       "      <th>height</th>\n",
       "      <th>weight</th>\n",
       "      <th>collage</th>\n",
       "      <th>born</th>\n",
       "      <th>birth_city</th>\n",
       "      <th>birth_state</th>\n",
       "    </tr>\n",
       "  </thead>\n",
       "  <tbody>\n",
       "    <tr>\n",
       "      <th>0</th>\n",
       "      <td>0</td>\n",
       "      <td>1950</td>\n",
       "      <td>Curly Armstrong</td>\n",
       "      <td>G-F</td>\n",
       "      <td>31.0</td>\n",
       "      <td>FTW</td>\n",
       "      <td>63</td>\n",
       "      <td>NaN</td>\n",
       "      <td>NaN</td>\n",
       "      <td>NaN</td>\n",
       "      <td>...</td>\n",
       "      <td>NaN</td>\n",
       "      <td>217</td>\n",
       "      <td>458</td>\n",
       "      <td>0</td>\n",
       "      <td>180.0</td>\n",
       "      <td>77.0</td>\n",
       "      <td>Indiana University</td>\n",
       "      <td>1918.0</td>\n",
       "      <td>NaN</td>\n",
       "      <td>NaN</td>\n",
       "    </tr>\n",
       "    <tr>\n",
       "      <th>1</th>\n",
       "      <td>1</td>\n",
       "      <td>1950</td>\n",
       "      <td>Cliff Barker</td>\n",
       "      <td>SG</td>\n",
       "      <td>29.0</td>\n",
       "      <td>INO</td>\n",
       "      <td>49</td>\n",
       "      <td>NaN</td>\n",
       "      <td>NaN</td>\n",
       "      <td>NaN</td>\n",
       "      <td>...</td>\n",
       "      <td>NaN</td>\n",
       "      <td>99</td>\n",
       "      <td>279</td>\n",
       "      <td>1</td>\n",
       "      <td>188.0</td>\n",
       "      <td>83.0</td>\n",
       "      <td>University of Kentucky</td>\n",
       "      <td>1921.0</td>\n",
       "      <td>Yorktown</td>\n",
       "      <td>Indiana</td>\n",
       "    </tr>\n",
       "    <tr>\n",
       "      <th>2</th>\n",
       "      <td>2</td>\n",
       "      <td>1950</td>\n",
       "      <td>Leo Barnhorst</td>\n",
       "      <td>SF</td>\n",
       "      <td>25.0</td>\n",
       "      <td>CHS</td>\n",
       "      <td>67</td>\n",
       "      <td>NaN</td>\n",
       "      <td>NaN</td>\n",
       "      <td>NaN</td>\n",
       "      <td>...</td>\n",
       "      <td>NaN</td>\n",
       "      <td>192</td>\n",
       "      <td>438</td>\n",
       "      <td>2</td>\n",
       "      <td>193.0</td>\n",
       "      <td>86.0</td>\n",
       "      <td>University of Notre Dame</td>\n",
       "      <td>1924.0</td>\n",
       "      <td>NaN</td>\n",
       "      <td>NaN</td>\n",
       "    </tr>\n",
       "    <tr>\n",
       "      <th>3</th>\n",
       "      <td>3</td>\n",
       "      <td>1950</td>\n",
       "      <td>Ed Bartels</td>\n",
       "      <td>F</td>\n",
       "      <td>24.0</td>\n",
       "      <td>TOT</td>\n",
       "      <td>15</td>\n",
       "      <td>NaN</td>\n",
       "      <td>NaN</td>\n",
       "      <td>NaN</td>\n",
       "      <td>...</td>\n",
       "      <td>NaN</td>\n",
       "      <td>29</td>\n",
       "      <td>63</td>\n",
       "      <td>3</td>\n",
       "      <td>196.0</td>\n",
       "      <td>88.0</td>\n",
       "      <td>North Carolina State University</td>\n",
       "      <td>1925.0</td>\n",
       "      <td>NaN</td>\n",
       "      <td>NaN</td>\n",
       "    </tr>\n",
       "    <tr>\n",
       "      <th>4</th>\n",
       "      <td>4</td>\n",
       "      <td>1950</td>\n",
       "      <td>Ed Bartels</td>\n",
       "      <td>F</td>\n",
       "      <td>24.0</td>\n",
       "      <td>DNN</td>\n",
       "      <td>13</td>\n",
       "      <td>NaN</td>\n",
       "      <td>NaN</td>\n",
       "      <td>NaN</td>\n",
       "      <td>...</td>\n",
       "      <td>NaN</td>\n",
       "      <td>27</td>\n",
       "      <td>59</td>\n",
       "      <td>3</td>\n",
       "      <td>196.0</td>\n",
       "      <td>88.0</td>\n",
       "      <td>North Carolina State University</td>\n",
       "      <td>1925.0</td>\n",
       "      <td>NaN</td>\n",
       "      <td>NaN</td>\n",
       "    </tr>\n",
       "  </tbody>\n",
       "</table>\n",
       "<p>5 rows × 60 columns</p>\n",
       "</div>"
      ],
      "text/plain": [
       "   Unnamed: 0_x  Year           Player  Pos   Age   Tm   G  GS  MP  PER  ...  \\\n",
       "0             0  1950  Curly Armstrong  G-F  31.0  FTW  63 NaN NaN  NaN  ...   \n",
       "1             1  1950     Cliff Barker   SG  29.0  INO  49 NaN NaN  NaN  ...   \n",
       "2             2  1950    Leo Barnhorst   SF  25.0  CHS  67 NaN NaN  NaN  ...   \n",
       "3             3  1950       Ed Bartels    F  24.0  TOT  15 NaN NaN  NaN  ...   \n",
       "4             4  1950       Ed Bartels    F  24.0  DNN  13 NaN NaN  NaN  ...   \n",
       "\n",
       "   TOV   PF  PTS  Unnamed: 0_y  height  weight  \\\n",
       "0  NaN  217  458             0   180.0    77.0   \n",
       "1  NaN   99  279             1   188.0    83.0   \n",
       "2  NaN  192  438             2   193.0    86.0   \n",
       "3  NaN   29   63             3   196.0    88.0   \n",
       "4  NaN   27   59             3   196.0    88.0   \n",
       "\n",
       "                           collage    born  birth_city  birth_state  \n",
       "0               Indiana University  1918.0         NaN          NaN  \n",
       "1           University of Kentucky  1921.0    Yorktown      Indiana  \n",
       "2         University of Notre Dame  1924.0         NaN          NaN  \n",
       "3  North Carolina State University  1925.0         NaN          NaN  \n",
       "4  North Carolina State University  1925.0         NaN          NaN  \n",
       "\n",
       "[5 rows x 60 columns]"
      ]
     },
     "execution_count": 60,
     "metadata": {},
     "output_type": "execute_result"
    }
   ],
   "source": [
    "df = pd.merge(metricas, jogadores, how='left', on='Player')\n",
    "df.head()"
   ]
  },
  {
   "cell_type": "code",
   "execution_count": 61,
   "id": "49fc7e96",
   "metadata": {},
   "outputs": [
    {
     "data": {
      "text/plain": [
       "Index(['Unnamed: 0_x', 'Year', 'Player', 'Pos', 'Age', 'Tm', 'G', 'GS', 'MP',\n",
       "       'PER', 'TS%', '3PAr', 'FTr', 'ORB%', 'DRB%', 'TRB%', 'AST%', 'STL%',\n",
       "       'BLK%', 'TOV%', 'USG%', 'blanl', 'OWS', 'DWS', 'WS', 'WS/48', 'blank2',\n",
       "       'OBPM', 'DBPM', 'BPM', 'VORP', 'FG', 'FGA', 'FG%', '3P', '3PA', '3P%',\n",
       "       '2P', '2PA', '2P%', 'eFG%', 'FT', 'FTA', 'FT%', 'ORB', 'DRB', 'TRB',\n",
       "       'AST', 'STL', 'BLK', 'TOV', 'PF', 'PTS', 'Unnamed: 0_y', 'height',\n",
       "       'weight', 'collage', 'born', 'birth_city', 'birth_state'],\n",
       "      dtype='object')"
      ]
     },
     "execution_count": 61,
     "metadata": {},
     "output_type": "execute_result"
    }
   ],
   "source": [
    "df.columns"
   ]
  },
  {
   "cell_type": "markdown",
   "id": "03db843b",
   "metadata": {},
   "source": [
    "## Checando outliers no dataframe\n",
    "\n",
    "obs:\n",
    "- **Year:** ano da estatística \n",
    "- **Pos:** posição do jogador\n",
    "- **Age:** idade\n",
    "- **Tm:** time\n",
    "- **G:** quantidade de jogos\n",
    "- **MP:** quantidade de minutos jogados\n",
    "- **TS%:** taxa de lançamentos com ponto \n",
    "- **FTr:** taxa de lançamento livre\n",
    "- **PTS:** pontos"
   ]
  },
  {
   "cell_type": "code",
   "execution_count": 62,
   "id": "4e4abb53",
   "metadata": {},
   "outputs": [
    {
     "data": {
      "text/html": [
       "<div>\n",
       "<style scoped>\n",
       "    .dataframe tbody tr th:only-of-type {\n",
       "        vertical-align: middle;\n",
       "    }\n",
       "\n",
       "    .dataframe tbody tr th {\n",
       "        vertical-align: top;\n",
       "    }\n",
       "\n",
       "    .dataframe thead th {\n",
       "        text-align: right;\n",
       "    }\n",
       "</style>\n",
       "<table border=\"1\" class=\"dataframe\">\n",
       "  <thead>\n",
       "    <tr style=\"text-align: right;\">\n",
       "      <th></th>\n",
       "      <th>height</th>\n",
       "      <th>weight</th>\n",
       "      <th>TS%</th>\n",
       "      <th>FTr</th>\n",
       "    </tr>\n",
       "  </thead>\n",
       "  <tbody>\n",
       "    <tr>\n",
       "      <th>0</th>\n",
       "      <td>180.0</td>\n",
       "      <td>77.0</td>\n",
       "      <td>0.368</td>\n",
       "      <td>0.467</td>\n",
       "    </tr>\n",
       "    <tr>\n",
       "      <th>1</th>\n",
       "      <td>188.0</td>\n",
       "      <td>83.0</td>\n",
       "      <td>0.435</td>\n",
       "      <td>0.387</td>\n",
       "    </tr>\n",
       "    <tr>\n",
       "      <th>2</th>\n",
       "      <td>193.0</td>\n",
       "      <td>86.0</td>\n",
       "      <td>0.394</td>\n",
       "      <td>0.259</td>\n",
       "    </tr>\n",
       "    <tr>\n",
       "      <th>3</th>\n",
       "      <td>196.0</td>\n",
       "      <td>88.0</td>\n",
       "      <td>0.312</td>\n",
       "      <td>0.395</td>\n",
       "    </tr>\n",
       "    <tr>\n",
       "      <th>4</th>\n",
       "      <td>196.0</td>\n",
       "      <td>88.0</td>\n",
       "      <td>0.308</td>\n",
       "      <td>0.378</td>\n",
       "    </tr>\n",
       "    <tr>\n",
       "      <th>...</th>\n",
       "      <td>...</td>\n",
       "      <td>...</td>\n",
       "      <td>...</td>\n",
       "      <td>...</td>\n",
       "    </tr>\n",
       "    <tr>\n",
       "      <th>24619</th>\n",
       "      <td>213.0</td>\n",
       "      <td>108.0</td>\n",
       "      <td>0.604</td>\n",
       "      <td>0.442</td>\n",
       "    </tr>\n",
       "    <tr>\n",
       "      <th>24620</th>\n",
       "      <td>213.0</td>\n",
       "      <td>114.0</td>\n",
       "      <td>0.508</td>\n",
       "      <td>0.247</td>\n",
       "    </tr>\n",
       "    <tr>\n",
       "      <th>24621</th>\n",
       "      <td>213.0</td>\n",
       "      <td>108.0</td>\n",
       "      <td>0.346</td>\n",
       "      <td>0.161</td>\n",
       "    </tr>\n",
       "    <tr>\n",
       "      <th>24622</th>\n",
       "      <td>203.0</td>\n",
       "      <td>97.0</td>\n",
       "      <td>0.503</td>\n",
       "      <td>0.181</td>\n",
       "    </tr>\n",
       "    <tr>\n",
       "      <th>24623</th>\n",
       "      <td>216.0</td>\n",
       "      <td>120.0</td>\n",
       "      <td>0.547</td>\n",
       "      <td>0.206</td>\n",
       "    </tr>\n",
       "  </tbody>\n",
       "</table>\n",
       "<p>24624 rows × 4 columns</p>\n",
       "</div>"
      ],
      "text/plain": [
       "       height  weight    TS%    FTr\n",
       "0       180.0    77.0  0.368  0.467\n",
       "1       188.0    83.0  0.435  0.387\n",
       "2       193.0    86.0  0.394  0.259\n",
       "3       196.0    88.0  0.312  0.395\n",
       "4       196.0    88.0  0.308  0.378\n",
       "...       ...     ...    ...    ...\n",
       "24619   213.0   108.0  0.604  0.442\n",
       "24620   213.0   114.0  0.508  0.247\n",
       "24621   213.0   108.0  0.346  0.161\n",
       "24622   203.0    97.0  0.503  0.181\n",
       "24623   216.0   120.0  0.547  0.206\n",
       "\n",
       "[24624 rows x 4 columns]"
      ]
     },
     "execution_count": 62,
     "metadata": {},
     "output_type": "execute_result"
    }
   ],
   "source": [
    "df[['height', 'weight', 'TS%', 'FTr']]"
   ]
  },
  {
   "cell_type": "code",
   "execution_count": 63,
   "id": "6fc7d99e",
   "metadata": {},
   "outputs": [
    {
     "name": "stdout",
     "output_type": "stream",
     "text": [
      "qtd de registros:  24594\n",
      "media de altura:  573878.4408798894\n",
      "\n",
      "qtd de registros:  24621\n",
      "media de peso:  252724.61528776248\n",
      "\n",
      "qtd de registros:  24538\n",
      "media de taxa de lançamentos:  1870.5780556280151\n",
      "\n",
      "qtd de registros:  24525\n",
      "media de lançamentos livres  23885.42191160049\n"
     ]
    }
   ],
   "source": [
    "print('qtd de registros: ', df['height'].count())\n",
    "print('media de altura: ',df['height'].mean())\n",
    "print()\n",
    "print('qtd de registros: ', df['weight'].count())\n",
    "print('media de peso: ',df['weight'].mean())\n",
    "print()\n",
    "print('qtd de registros: ', df['TS%'].count())\n",
    "print('media de taxa de lançamentos: ',df['TS%'].mean())\n",
    "print()\n",
    "print('qtd de registros: ', df['FTr'].count())\n",
    "print('media de lançamentos livres ',df['FTr'].mean())"
   ]
  },
  {
   "cell_type": "code",
   "execution_count": 65,
   "id": "e28ff752",
   "metadata": {
    "scrolled": false
   },
   "outputs": [],
   "source": [
    "#Pelo desvio apresentado das médias utilizando o método mean() \n",
    "#vemos que precisamos retirar os outliers que distorcem os dados"
   ]
  },
  {
   "cell_type": "code",
   "execution_count": 66,
   "id": "4e7a82a8",
   "metadata": {},
   "outputs": [
    {
     "data": {
      "text/plain": [
       "1892      1.0\n",
       "1418      1.0\n",
       "1492      2.0\n",
       "1837    160.0\n",
       "2587    165.0\n",
       "Name: height, dtype: float64"
      ]
     },
     "execution_count": 66,
     "metadata": {},
     "output_type": "execute_result"
    }
   ],
   "source": [
    "jogadores.sort_values(by=['height'], ascending=True)['height'].head()"
   ]
  },
  {
   "cell_type": "code",
   "execution_count": 67,
   "id": "55eda8fe",
   "metadata": {},
   "outputs": [
    {
     "data": {
      "text/plain": [
       "1776    2.015560e+09\n",
       "1594    1.009800e+04\n",
       "1797    1.212000e+03\n",
       "1306    1.130000e+03\n",
       "2297    2.310000e+02\n",
       "Name: height, dtype: float64"
      ]
     },
     "execution_count": 67,
     "metadata": {},
     "output_type": "execute_result"
    }
   ],
   "source": [
    "jogadores.sort_values(by=['height'], ascending=False)['height'].head()"
   ]
  },
  {
   "cell_type": "code",
   "execution_count": 68,
   "id": "6ede6725",
   "metadata": {},
   "outputs": [
    {
     "data": {
      "text/plain": [
       "359      0.0\n",
       "391      0.0\n",
       "242      1.0\n",
       "718      2.0\n",
       "1764    60.0\n",
       "Name: weight, dtype: float64"
      ]
     },
     "execution_count": 68,
     "metadata": {},
     "output_type": "execute_result"
    }
   ],
   "source": [
    "jogadores.sort_values(by=['weight'], ascending=True)['weight'].head()"
   ]
  },
  {
   "cell_type": "code",
   "execution_count": 69,
   "id": "52ae1fe7",
   "metadata": {},
   "outputs": [
    {
     "data": {
      "text/plain": [
       "1794    888565978.0\n",
       "879         10918.0\n",
       "446         10078.0\n",
       "103          1110.0\n",
       "3686          163.0\n",
       "Name: weight, dtype: float64"
      ]
     },
     "execution_count": 69,
     "metadata": {},
     "output_type": "execute_result"
    }
   ],
   "source": [
    "jogadores.sort_values(by=['weight'], ascending=False)['weight'].head()"
   ]
  },
  {
   "cell_type": "code",
   "execution_count": 70,
   "id": "0cb6a367",
   "metadata": {},
   "outputs": [
    {
     "data": {
      "text/plain": [
       "13550    0.0\n",
       "14624    0.0\n",
       "24320    0.0\n",
       "14513    0.0\n",
       "20187    0.0\n",
       "Name: TS%, dtype: float64"
      ]
     },
     "execution_count": 70,
     "metadata": {},
     "output_type": "execute_result"
    }
   ],
   "source": [
    "metricas.sort_values(by=['TS%'], ascending=True)['TS%'].head()"
   ]
  },
  {
   "cell_type": "code",
   "execution_count": 71,
   "id": "8815b081",
   "metadata": {},
   "outputs": [
    {
     "data": {
      "text/plain": [
       "1174     45868796.0\n",
       "8843         1136.0\n",
       "8059         1136.0\n",
       "11873        1136.0\n",
       "23615        1094.0\n",
       "Name: TS%, dtype: float64"
      ]
     },
     "execution_count": 71,
     "metadata": {},
     "output_type": "execute_result"
    }
   ],
   "source": [
    "metricas.sort_values(by=['TS%'], ascending=False)['TS%'].head()"
   ]
  },
  {
   "cell_type": "code",
   "execution_count": 72,
   "id": "fe2e759e",
   "metadata": {},
   "outputs": [
    {
     "data": {
      "text/plain": [
       "3016     0.0\n",
       "21575    0.0\n",
       "16723    0.0\n",
       "21574    0.0\n",
       "13038    0.0\n",
       "Name: FTr, dtype: float64"
      ]
     },
     "execution_count": 72,
     "metadata": {},
     "output_type": "execute_result"
    }
   ],
   "source": [
    "metricas.sort_values(by=['FTr'], ascending=True)['FTr'].head()"
   ]
  },
  {
   "cell_type": "code",
   "execution_count": 73,
   "id": "4927d6e3",
   "metadata": {},
   "outputs": [
    {
     "data": {
      "text/plain": [
       "1212     585654786.0\n",
       "519           3500.0\n",
       "9891          2667.0\n",
       "19024         2167.0\n",
       "14461         1846.0\n",
       "Name: FTr, dtype: float64"
      ]
     },
     "execution_count": 73,
     "metadata": {},
     "output_type": "execute_result"
    }
   ],
   "source": [
    "metricas.sort_values(by=['FTr'], ascending=False)['FTr'].head()"
   ]
  },
  {
   "cell_type": "markdown",
   "id": "1da9350f",
   "metadata": {},
   "source": [
    "O código abaixo seleciona a média dos valores na coluna height que estão entre 0.02% e 99.8% da coluna height. Dessa forma, deixando os outliers que distorcem a média de fora.\n"
   ]
  },
  {
   "cell_type": "code",
   "execution_count": 74,
   "id": "0f11f10e",
   "metadata": {},
   "outputs": [
    {
     "data": {
      "text/plain": [
       "199.44283380971825"
      ]
     },
     "execution_count": 74,
     "metadata": {},
     "output_type": "execute_result"
    }
   ],
   "source": [
    "df[(df['height'] > df['height'].quantile(0.002)) & (df['height'] < df['height'].quantile(0.998))]['height'].mean()"
   ]
  },
  {
   "cell_type": "code",
   "execution_count": 75,
   "id": "15feb382",
   "metadata": {},
   "outputs": [],
   "source": [
    "# SUBSTITUINDO EXTREMIDADE SUPERIOR DE height\n",
    "df['height'] = np.where(df['height'] >= df['height'].quantile(0.998),\n",
    "                               \n",
    "                                  df[(df['height'] > df['height'].quantile(0.002)) & \n",
    "                                                (df['height'] < df['height'].quantile(0.998))]['height'].mean(),\n",
    "                              \n",
    "                                  df['height'])\n",
    "\n",
    "# SUBSTITUINDO EXTREMIDADE INFERIOR DE height\n",
    "df['height'] = np.where(df['height'] <= df['height'].quantile(0.002),\n",
    "                               \n",
    "                                  df[(df['height'] > df['height'].quantile(0.002)) & \n",
    "                                                (df['height'] < df['height'].quantile(0.998))]['height'].mean(),\n",
    "                              \n",
    "                                  df['height'])\n",
    "\n",
    "# SUBSTITUINDO EXTREMIDADE SUPERIOR DE weight\n",
    "df['weight'] = np.where(df['weight'] >= df['weight'].quantile(0.998),\n",
    "                               \n",
    "                                  df[(df['weight'] > df['weight'].quantile(0.002)) & \n",
    "                                                (df['weight'] < df['weight'].quantile(0.998))]['weight'].mean(),\n",
    "                              \n",
    "                                  df['weight'])\n",
    "\n",
    "# SUBSTITUINDO EXTREMIDADE INFERIOR DE weight\n",
    "df['weight'] = np.where(df['weight'] <= df['weight'].quantile(0.002),\n",
    "                               \n",
    "                                  df[(df['weight'] > df['weight'].quantile(0.002)) & \n",
    "                                                (df['weight'] < df['weight'].quantile(0.998))]['weight'].mean(),\n",
    "                              \n",
    "                                  df['weight'])\n",
    "\n",
    "# SUBSTITUINDO EXTREMIDADE SUPERIOR DE TS%\n",
    "df['TS%'] = np.where(df['TS%'] >= df['TS%'].quantile(0.998),\n",
    "                               \n",
    "                                  df[(df['TS%'] > df['TS%'].quantile(0.002)) & \n",
    "                                                (df['TS%'] < df['TS%'].quantile(0.998))]['TS%'].mean(),\n",
    "                              \n",
    "                                  df['TS%'])\n",
    "\n",
    "# SUBSTITUINDO EXTREMIDADE INFERIOR DE TS%\n",
    "df['TS%'] = np.where(df['TS%'] <= df['TS%'].quantile(0.002),\n",
    "                               \n",
    "                                  df[(df['TS%'] > df['TS%'].quantile(0.002)) & \n",
    "                                                (df['TS%'] < df['TS%'].quantile(0.998))]['TS%'].mean(),\n",
    "                              \n",
    "                                  df['TS%'])\n",
    "\n",
    "# SUBSTITUINDO EXTREMIDADE SUPERIOR DE FTr\n",
    "df['FTr'] = np.where(df['FTr'] >= df['FTr'].quantile(0.998),\n",
    "                               \n",
    "                                  df[(df['FTr'] > df['FTr'].quantile(0.002)) & \n",
    "                                                (df['FTr'] < df['FTr'].quantile(0.998))]['FTr'].mean(),\n",
    "                              \n",
    "                                  df['FTr'])\n",
    "\n",
    "# SUBSTITUINDO EXTREMIDADE INFERIOR DE FTr\n",
    "df['FTr'] = np.where(df['FTr'] <= df['FTr'].quantile(0.002),\n",
    "                               \n",
    "                                  df[(df['FTr'] > df['FTr'].quantile(0.002)) & \n",
    "                                                (df['FTr'] < df['FTr'].quantile(0.998))]['FTr'].mean(),\n",
    "                              \n",
    "                                  df['FTr'])\n"
   ]
  },
  {
   "cell_type": "markdown",
   "id": "5c4a2b11",
   "metadata": {},
   "source": [
    "## Tratamento de valores ausentes"
   ]
  },
  {
   "cell_type": "code",
   "execution_count": 76,
   "id": "dd62fdef",
   "metadata": {},
   "outputs": [],
   "source": [
    "# TRATAMENTO DOS NUMÉRICOS AUSENTES SUBSTITUINDO PELA MÉDIA DA COLUNA\n",
    "df['height'] = df['height'].fillna(value = df['height'].mean())\n",
    "df['weight'] = df['weight'].fillna(value = df['weight'].mean())\n",
    "df['TS%'] = df['TS%'].fillna(value = df['TS%'].mean())\n",
    "df['FTr'] = df['FTr'].fillna(value = df['FTr'].mean())"
   ]
  },
  {
   "cell_type": "code",
   "execution_count": 77,
   "id": "2174a2f0",
   "metadata": {},
   "outputs": [
    {
     "data": {
      "text/html": [
       "<div>\n",
       "<style scoped>\n",
       "    .dataframe tbody tr th:only-of-type {\n",
       "        vertical-align: middle;\n",
       "    }\n",
       "\n",
       "    .dataframe tbody tr th {\n",
       "        vertical-align: top;\n",
       "    }\n",
       "\n",
       "    .dataframe thead th {\n",
       "        text-align: right;\n",
       "    }\n",
       "</style>\n",
       "<table border=\"1\" class=\"dataframe\">\n",
       "  <thead>\n",
       "    <tr style=\"text-align: right;\">\n",
       "      <th></th>\n",
       "      <th>birth_city</th>\n",
       "      <th>birth_state</th>\n",
       "      <th>collage</th>\n",
       "    </tr>\n",
       "  </thead>\n",
       "  <tbody>\n",
       "    <tr>\n",
       "      <th>0</th>\n",
       "      <td>Nao identificado</td>\n",
       "      <td>Nao identificado</td>\n",
       "      <td>Indiana University</td>\n",
       "    </tr>\n",
       "    <tr>\n",
       "      <th>1</th>\n",
       "      <td>Yorktown</td>\n",
       "      <td>Indiana</td>\n",
       "      <td>University of Kentucky</td>\n",
       "    </tr>\n",
       "    <tr>\n",
       "      <th>2</th>\n",
       "      <td>Nao identificado</td>\n",
       "      <td>Nao identificado</td>\n",
       "      <td>University of Notre Dame</td>\n",
       "    </tr>\n",
       "    <tr>\n",
       "      <th>3</th>\n",
       "      <td>Nao identificado</td>\n",
       "      <td>Nao identificado</td>\n",
       "      <td>North Carolina State University</td>\n",
       "    </tr>\n",
       "    <tr>\n",
       "      <th>4</th>\n",
       "      <td>Nao identificado</td>\n",
       "      <td>Nao identificado</td>\n",
       "      <td>North Carolina State University</td>\n",
       "    </tr>\n",
       "  </tbody>\n",
       "</table>\n",
       "</div>"
      ],
      "text/plain": [
       "         birth_city       birth_state                          collage\n",
       "0  Nao identificado  Nao identificado               Indiana University\n",
       "1          Yorktown           Indiana           University of Kentucky\n",
       "2  Nao identificado  Nao identificado         University of Notre Dame\n",
       "3  Nao identificado  Nao identificado  North Carolina State University\n",
       "4  Nao identificado  Nao identificado  North Carolina State University"
      ]
     },
     "execution_count": 77,
     "metadata": {},
     "output_type": "execute_result"
    }
   ],
   "source": [
    "df['birth_city'] = df['birth_city'].fillna(value = 'Nao identificado')\n",
    "df['birth_state'] = df['birth_state'].fillna(value = 'Nao identificado')\n",
    "df['collage'] = df['collage'].fillna(value = 'Nao identificado')\n",
    "df[['birth_city', 'birth_state', 'collage']].head()"
   ]
  },
  {
   "cell_type": "markdown",
   "id": "f52cda77",
   "metadata": {},
   "source": [
    "## Discretização\n",
    "Discretizando a idade dos jogadores em três categorias e criando um nova coluna\n"
   ]
  },
  {
   "cell_type": "code",
   "execution_count": 78,
   "id": "a321d24f",
   "metadata": {},
   "outputs": [],
   "source": [
    "def discrIdade(x):\n",
    "    if x < df['Age'].quantile(0.33):\n",
    "        return 'Junior'\n",
    "    elif x < df['Age'].quantile(0.66):\n",
    "        return 'Medio'\n",
    "    else:\n",
    "        return 'Senior'"
   ]
  },
  {
   "cell_type": "code",
   "execution_count": 79,
   "id": "82a3bce8",
   "metadata": {},
   "outputs": [],
   "source": [
    "df['DescIdade'] = df['Age'].apply(discrIdade)"
   ]
  },
  {
   "cell_type": "code",
   "execution_count": 80,
   "id": "d97c51ac",
   "metadata": {},
   "outputs": [
    {
     "data": {
      "text/plain": [
       "0    Senior\n",
       "1    Senior\n",
       "2     Medio\n",
       "3     Medio\n",
       "4     Medio\n",
       "5     Medio\n",
       "6    Junior\n",
       "7    Junior\n",
       "Name: DescIdade, dtype: object"
      ]
     },
     "execution_count": 80,
     "metadata": {},
     "output_type": "execute_result"
    }
   ],
   "source": [
    "df['DescIdade'].head(8)"
   ]
  },
  {
   "cell_type": "markdown",
   "id": "0ad15f1b",
   "metadata": {},
   "source": [
    "## Análise de Dados\n",
    "\n",
    "1. Qual a média de idade/peso/altura dos jogadores?"
   ]
  },
  {
   "cell_type": "code",
   "execution_count": 82,
   "id": "ae48e409",
   "metadata": {},
   "outputs": [
    {
     "data": {
      "text/plain": [
       "Age       26.664405\n",
       "weight    95.509380\n",
       "dtype: float64"
      ]
     },
     "execution_count": 82,
     "metadata": {},
     "output_type": "execute_result"
    }
   ],
   "source": [
    "df[['Age', 'weight','height']].mean()"
   ]
  },
  {
   "cell_type": "markdown",
   "id": "34d11830",
   "metadata": {},
   "source": [
    "2. Média de idade/peso/altura dos jogadores das décadas de 50 e 90."
   ]
  },
  {
   "cell_type": "code",
   "execution_count": 88,
   "id": "61cf016f",
   "metadata": {},
   "outputs": [
    {
     "name": "stdout",
     "output_type": "stream",
     "text": [
      "Anos 50\n",
      "Age        26.056172\n",
      "weight     88.690636\n",
      "height    193.769655\n",
      "dtype: float64\n",
      "\n",
      "Anos 90\n",
      "Age        27.190311\n",
      "weight     95.742329\n",
      "height    200.079126\n",
      "dtype: float64\n"
     ]
    }
   ],
   "source": [
    "print('Anos 50')\n",
    "print(df[(df['Year'] >= 1950) & (df['Year'] < 1960)][['Age','weight','height']].mean())\n",
    "print()\n",
    "print('Anos 90')\n",
    "print(df[(df['Year'] >= 1990) & (df['Year'] < 2000)][['Age','weight','height']].mean())\n"
   ]
  },
  {
   "cell_type": "code",
   "execution_count": 90,
   "id": "6ceaf40c",
   "metadata": {},
   "outputs": [
    {
     "data": {
      "text/html": [
       "<div>\n",
       "<style scoped>\n",
       "    .dataframe tbody tr th:only-of-type {\n",
       "        vertical-align: middle;\n",
       "    }\n",
       "\n",
       "    .dataframe tbody tr th {\n",
       "        vertical-align: top;\n",
       "    }\n",
       "\n",
       "    .dataframe thead th {\n",
       "        text-align: right;\n",
       "    }\n",
       "</style>\n",
       "<table border=\"1\" class=\"dataframe\">\n",
       "  <thead>\n",
       "    <tr style=\"text-align: right;\">\n",
       "      <th></th>\n",
       "      <th>Unnamed: 0_x</th>\n",
       "      <th>Year</th>\n",
       "      <th>Player</th>\n",
       "      <th>Pos</th>\n",
       "      <th>Age</th>\n",
       "      <th>Tm</th>\n",
       "      <th>G</th>\n",
       "      <th>GS</th>\n",
       "      <th>MP</th>\n",
       "      <th>PER</th>\n",
       "      <th>...</th>\n",
       "      <th>PF</th>\n",
       "      <th>PTS</th>\n",
       "      <th>Unnamed: 0_y</th>\n",
       "      <th>height</th>\n",
       "      <th>weight</th>\n",
       "      <th>collage</th>\n",
       "      <th>born</th>\n",
       "      <th>birth_city</th>\n",
       "      <th>birth_state</th>\n",
       "      <th>DescIdade</th>\n",
       "    </tr>\n",
       "  </thead>\n",
       "  <tbody>\n",
       "    <tr>\n",
       "      <th>0</th>\n",
       "      <td>0</td>\n",
       "      <td>1950</td>\n",
       "      <td>Curly Armstrong</td>\n",
       "      <td>G-F</td>\n",
       "      <td>31.0</td>\n",
       "      <td>FTW</td>\n",
       "      <td>63</td>\n",
       "      <td>NaN</td>\n",
       "      <td>NaN</td>\n",
       "      <td>NaN</td>\n",
       "      <td>...</td>\n",
       "      <td>217</td>\n",
       "      <td>458</td>\n",
       "      <td>0</td>\n",
       "      <td>180.0</td>\n",
       "      <td>77.0</td>\n",
       "      <td>Indiana University</td>\n",
       "      <td>1918.0</td>\n",
       "      <td>Nao identificado</td>\n",
       "      <td>Nao identificado</td>\n",
       "      <td>Senior</td>\n",
       "    </tr>\n",
       "    <tr>\n",
       "      <th>1</th>\n",
       "      <td>1</td>\n",
       "      <td>1950</td>\n",
       "      <td>Cliff Barker</td>\n",
       "      <td>SG</td>\n",
       "      <td>29.0</td>\n",
       "      <td>INO</td>\n",
       "      <td>49</td>\n",
       "      <td>NaN</td>\n",
       "      <td>NaN</td>\n",
       "      <td>NaN</td>\n",
       "      <td>...</td>\n",
       "      <td>99</td>\n",
       "      <td>279</td>\n",
       "      <td>1</td>\n",
       "      <td>188.0</td>\n",
       "      <td>83.0</td>\n",
       "      <td>University of Kentucky</td>\n",
       "      <td>1921.0</td>\n",
       "      <td>Yorktown</td>\n",
       "      <td>Indiana</td>\n",
       "      <td>Senior</td>\n",
       "    </tr>\n",
       "  </tbody>\n",
       "</table>\n",
       "<p>2 rows × 61 columns</p>\n",
       "</div>"
      ],
      "text/plain": [
       "   Unnamed: 0_x  Year           Player  Pos   Age   Tm   G  GS  MP  PER  ...  \\\n",
       "0             0  1950  Curly Armstrong  G-F  31.0  FTW  63 NaN NaN  NaN  ...   \n",
       "1             1  1950     Cliff Barker   SG  29.0  INO  49 NaN NaN  NaN  ...   \n",
       "\n",
       "    PF  PTS  Unnamed: 0_y  height  weight                 collage    born  \\\n",
       "0  217  458             0   180.0    77.0      Indiana University  1918.0   \n",
       "1   99  279             1   188.0    83.0  University of Kentucky  1921.0   \n",
       "\n",
       "         birth_city       birth_state  DescIdade  \n",
       "0  Nao identificado  Nao identificado     Senior  \n",
       "1          Yorktown           Indiana     Senior  \n",
       "\n",
       "[2 rows x 61 columns]"
      ]
     },
     "execution_count": 90,
     "metadata": {},
     "output_type": "execute_result"
    }
   ],
   "source": [
    "df.head(2)"
   ]
  },
  {
   "cell_type": "markdown",
   "id": "1973f1a2",
   "metadata": {},
   "source": [
    "## Qual jogador mais marcou pontos na série histórica?"
   ]
  },
  {
   "cell_type": "code",
   "execution_count": 92,
   "id": "35980d37",
   "metadata": {},
   "outputs": [
    {
     "data": {
      "text/plain": [
       "Player\n",
       "Kareem Abdul-Jabbar*    38387\n",
       "Name: PTS, dtype: int64"
      ]
     },
     "execution_count": 92,
     "metadata": {},
     "output_type": "execute_result"
    }
   ],
   "source": [
    "df.groupby('Player')['PTS'].sum().sort_values(ascending=False).head(1)"
   ]
  },
  {
   "cell_type": "markdown",
   "id": "d457aac6",
   "metadata": {},
   "source": [
    "## Qual foi o jogador que mais marcou pontos em uma única temporada? Qual ano isso aconteceu?"
   ]
  },
  {
   "cell_type": "code",
   "execution_count": 98,
   "id": "92ec46ec",
   "metadata": {},
   "outputs": [
    {
     "data": {
      "text/plain": [
       "Player             Year\n",
       "Wilt Chamberlain*  1965    5068\n",
       "                   1962    4029\n",
       "Carmelo Anthony    2011    3940\n",
       "DeMarcus Cousins   2017    3884\n",
       "Archie Clark       1972    3876\n",
       "Name: PTS, dtype: int64"
      ]
     },
     "execution_count": 98,
     "metadata": {},
     "output_type": "execute_result"
    }
   ],
   "source": [
    "df.groupby(['Player','Year'])['PTS'].sum().sort_values(ascending=False).head()"
   ]
  },
  {
   "cell_type": "markdown",
   "id": "76fb9a9a",
   "metadata": {},
   "source": [
    "## Qual jogador que jogou por mais tempo na NBA?"
   ]
  },
  {
   "cell_type": "code",
   "execution_count": 101,
   "id": "b8c11f40",
   "metadata": {},
   "outputs": [
    {
     "data": {
      "text/plain": [
       "Player\n",
       "Eddie Johnson       33\n",
       "Mike Dunleavy       32\n",
       "Gerald Henderson    29\n",
       "Nazr Mohammed       28\n",
       "Kevin Willis        27\n",
       "Name: Year, dtype: int64"
      ]
     },
     "execution_count": 101,
     "metadata": {},
     "output_type": "execute_result"
    }
   ],
   "source": [
    "df.groupby('Player')['Year'].count().sort_values(ascending=False).head()"
   ]
  },
  {
   "cell_type": "markdown",
   "id": "da65e80c",
   "metadata": {},
   "source": [
    "## Qual jogador permaneceu mais tempo em um time? Qual é este time? Por quanto tempo ele ficou neste time?"
   ]
  },
  {
   "cell_type": "code",
   "execution_count": 105,
   "id": "b1ac769d",
   "metadata": {},
   "outputs": [
    {
     "data": {
      "text/plain": [
       "Player          Tm \n",
       "Kobe Bryant     LAL    20\n",
       "Dirk Nowitzki   DAL    19\n",
       "John Stockton*  UTA    19\n",
       "Tim Duncan      SAS    19\n",
       "Reggie Miller*  IND    18\n",
       "Name: Year, dtype: int64"
      ]
     },
     "execution_count": 105,
     "metadata": {},
     "output_type": "execute_result"
    }
   ],
   "source": [
    "df.groupby(['Player','Tm'])['Year'].count().sort_values(ascending=False).head()"
   ]
  },
  {
   "cell_type": "markdown",
   "id": "ea7a9ee7",
   "metadata": {},
   "source": [
    "## Quais são os atletas mais altos e mais baixos que já jogaram na NBA?"
   ]
  },
  {
   "cell_type": "code",
   "execution_count": 118,
   "id": "fd2000f5",
   "metadata": {},
   "outputs": [
    {
     "data": {
      "text/plain": [
       "Player\n",
       "P.J. Brown       229.0\n",
       "Shawn Bradley    229.0\n",
       "Yao Ming*        229.0\n",
       "Peter John       226.0\n",
       "Sim Bhullar      226.0\n",
       "Name: height, dtype: float64"
      ]
     },
     "execution_count": 118,
     "metadata": {},
     "output_type": "execute_result"
    }
   ],
   "source": [
    "#Os mais altos são/foram:\n",
    "df.groupby('Player')['height'].max().sort_values(ascending=False).head()\n"
   ]
  },
  {
   "cell_type": "code",
   "execution_count": 125,
   "id": "bb817279",
   "metadata": {},
   "outputs": [
    {
     "data": {
      "text/plain": [
       "Player\n",
       "Spud Webb          168.0\n",
       "Keith Jennings     170.0\n",
       "Monte Towe         170.0\n",
       "Greg Grant         170.0\n",
       "Willie Somerset    173.0\n",
       "Name: height, dtype: float64"
      ]
     },
     "execution_count": 125,
     "metadata": {},
     "output_type": "execute_result"
    }
   ],
   "source": [
    "#Os mais baixos são/foram:\n",
    "df.groupby('Player')['height'].min().sort_values(ascending=True).head()"
   ]
  },
  {
   "cell_type": "markdown",
   "id": "beae6cf3",
   "metadata": {},
   "source": [
    "## Quais são os jogadores mais pesados e mais leves que já jogaram na NBA?"
   ]
  },
  {
   "cell_type": "code",
   "execution_count": 122,
   "id": "47b5033c",
   "metadata": {},
   "outputs": [
    {
     "data": {
      "text/plain": [
       "Player\n",
       "Ha Seung-Jin        138.0\n",
       "Garret Siler        138.0\n",
       "Gheorghe Muresan    137.0\n",
       "Jerome James        136.0\n",
       "DeSagana Diop       136.0\n",
       "Name: weight, dtype: float64"
      ]
     },
     "execution_count": 122,
     "metadata": {},
     "output_type": "execute_result"
    }
   ],
   "source": [
    "#Os mais pesados são/foram:\n",
    "df.groupby('Player')['weight'].max().sort_values(ascending=False).head()"
   ]
  },
  {
   "cell_type": "code",
   "execution_count": 124,
   "id": "47f87978",
   "metadata": {},
   "outputs": [
    {
     "data": {
      "text/plain": [
       "Player\n",
       "Greg Grant         63.0\n",
       "Tiny Archibald*    68.0\n",
       "Monte Towe         68.0\n",
       "Elliot Perry       68.0\n",
       "Tyler Ulis         68.0\n",
       "Name: weight, dtype: float64"
      ]
     },
     "execution_count": 124,
     "metadata": {},
     "output_type": "execute_result"
    }
   ],
   "source": [
    "#Os mais leves são/foram:\n",
    "df.groupby('Player')['weight'].min().sort_values(ascending=True).head()"
   ]
  }
 ],
 "metadata": {
  "kernelspec": {
   "display_name": "Python 3 (ipykernel)",
   "language": "python",
   "name": "python3"
  },
  "language_info": {
   "codemirror_mode": {
    "name": "ipython",
    "version": 3
   },
   "file_extension": ".py",
   "mimetype": "text/x-python",
   "name": "python",
   "nbconvert_exporter": "python",
   "pygments_lexer": "ipython3",
   "version": "3.9.7"
  }
 },
 "nbformat": 4,
 "nbformat_minor": 5
}
